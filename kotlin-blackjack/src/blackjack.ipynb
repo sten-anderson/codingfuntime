{
 "cells": [
  {
   "cell_type": "code",
   "metadata": {
    "collapsed": true,
    "ExecuteTime": {
     "end_time": "2025-05-29T19:03:45.361390Z",
     "start_time": "2025-05-29T19:03:45.320130Z"
    }
   },
   "source": "1",
   "outputs": [
    {
     "data": {
      "text/plain": [
       "1"
      ]
     },
     "execution_count": 1,
     "metadata": {},
     "output_type": "execute_result"
    }
   ],
   "execution_count": 1
  },
  {
   "metadata": {
    "ExecuteTime": {
     "end_time": "2025-05-29T19:03:48.925921Z",
     "start_time": "2025-05-29T19:03:48.880294Z"
    }
   },
   "cell_type": "code",
   "source": "1+3",
   "outputs": [
    {
     "data": {
      "text/plain": [
       "4"
      ]
     },
     "execution_count": 2,
     "metadata": {},
     "output_type": "execute_result"
    }
   ],
   "execution_count": 2
  },
  {
   "metadata": {
    "ExecuteTime": {
     "end_time": "2025-05-29T19:03:58.099926Z",
     "start_time": "2025-05-29T19:03:58.040337Z"
    }
   },
   "cell_type": "code",
   "source": "listOf(1, 2, 3)",
   "outputs": [
    {
     "data": {
      "text/plain": [
       "[1, 2, 3]"
      ]
     },
     "execution_count": 3,
     "metadata": {},
     "output_type": "execute_result"
    }
   ],
   "execution_count": 3
  },
  {
   "metadata": {
    "ExecuteTime": {
     "end_time": "2025-05-29T19:05:29.612455Z",
     "start_time": "2025-05-29T19:05:29.575142Z"
    }
   },
   "cell_type": "code",
   "source": "var list = listOf(2, 3, 4, 5, 6)",
   "outputs": [],
   "execution_count": 11
  },
  {
   "metadata": {
    "ExecuteTime": {
     "end_time": "2025-05-29T19:04:22.634469Z",
     "start_time": "2025-05-29T19:04:22.599362Z"
    }
   },
   "cell_type": "code",
   "source": "list",
   "outputs": [
    {
     "data": {
      "text/plain": [
       "[2, 3, 4, 5, 6]"
      ]
     },
     "execution_count": 6,
     "metadata": {},
     "output_type": "execute_result"
    }
   ],
   "execution_count": 6
  },
  {
   "metadata": {
    "ExecuteTime": {
     "end_time": "2025-05-29T19:04:33.611628Z",
     "start_time": "2025-05-29T19:04:33.545985Z"
    }
   },
   "cell_type": "code",
   "source": "list.reversed()",
   "outputs": [
    {
     "data": {
      "text/plain": [
       "[6, 5, 4, 3, 2]"
      ]
     },
     "execution_count": 7,
     "metadata": {},
     "output_type": "execute_result"
    }
   ],
   "execution_count": 7
  },
  {
   "metadata": {
    "ExecuteTime": {
     "end_time": "2025-05-29T19:04:38.986261Z",
     "start_time": "2025-05-29T19:04:38.947172Z"
    }
   },
   "cell_type": "code",
   "source": "list.shuffled()",
   "outputs": [
    {
     "data": {
      "text/plain": [
       "[3, 6, 4, 2, 5]"
      ]
     },
     "execution_count": 8,
     "metadata": {},
     "output_type": "execute_result"
    }
   ],
   "execution_count": 8
  },
  {
   "metadata": {
    "ExecuteTime": {
     "end_time": "2025-05-29T19:04:45.502699Z",
     "start_time": "2025-05-29T19:04:45.473357Z"
    }
   },
   "cell_type": "code",
   "source": "list",
   "outputs": [
    {
     "data": {
      "text/plain": [
       "[2, 3, 4, 5, 6]"
      ]
     },
     "execution_count": 9,
     "metadata": {},
     "output_type": "execute_result"
    }
   ],
   "execution_count": 9
  },
  {
   "metadata": {
    "ExecuteTime": {
     "end_time": "2025-05-29T19:05:33.248035Z",
     "start_time": "2025-05-29T19:05:33.219182Z"
    }
   },
   "cell_type": "code",
   "source": "list = listOf(3, 4)",
   "outputs": [],
   "execution_count": 12
  },
  {
   "metadata": {
    "ExecuteTime": {
     "end_time": "2025-05-29T19:07:22.897374Z",
     "start_time": "2025-05-29T19:07:22.865908Z"
    }
   },
   "cell_type": "code",
   "source": "val suits = listOf(\"Hearts\", \"Clubs\", \"Spades\", \"Diamonds\")",
   "outputs": [],
   "execution_count": 13
  },
  {
   "metadata": {
    "ExecuteTime": {
     "end_time": "2025-05-29T19:16:16.401449Z",
     "start_time": "2025-05-29T19:16:16.361701Z"
    }
   },
   "cell_type": "code",
   "source": "typealias Suit = String",
   "outputs": [],
   "execution_count": 27
  },
  {
   "metadata": {
    "ExecuteTime": {
     "end_time": "2025-05-29T19:07:26.357423Z",
     "start_time": "2025-05-29T19:07:26.333112Z"
    }
   },
   "cell_type": "code",
   "source": "suits",
   "outputs": [
    {
     "data": {
      "text/plain": [
       "[Hearts, Clubs, Spades, Diamonds]"
      ]
     },
     "execution_count": 14,
     "metadata": {},
     "output_type": "execute_result"
    }
   ],
   "execution_count": 14
  },
  {
   "metadata": {
    "ExecuteTime": {
     "end_time": "2025-05-29T19:10:32.301008Z",
     "start_time": "2025-05-29T19:10:32.179256Z"
    }
   },
   "cell_type": "code",
   "source": "enum class Rank(val value:Int) { Two(2), Three(3), Jack(10), Queen(10), King(10), Ace(11) }",
   "outputs": [],
   "execution_count": 15
  },
  {
   "metadata": {
    "ExecuteTime": {
     "end_time": "2025-05-29T19:10:43.782607Z",
     "start_time": "2025-05-29T19:10:43.753211Z"
    }
   },
   "cell_type": "code",
   "source": "Rank.entries",
   "outputs": [
    {
     "data": {
      "text/plain": [
       "[Two, Three, Jack, Queen, King, Ace]"
      ]
     },
     "execution_count": 16,
     "metadata": {},
     "output_type": "execute_result"
    }
   ],
   "execution_count": 16
  },
  {
   "metadata": {
    "ExecuteTime": {
     "end_time": "2025-05-29T19:10:55.193650Z",
     "start_time": "2025-05-29T19:10:55.165828Z"
    }
   },
   "cell_type": "code",
   "source": "Rank.values()",
   "outputs": [
    {
     "data": {
      "text/plain": [
       "[Two, Three, Jack, Queen, King, Ace]"
      ]
     },
     "execution_count": 17,
     "metadata": {},
     "output_type": "execute_result"
    }
   ],
   "execution_count": 17
  },
  {
   "metadata": {
    "ExecuteTime": {
     "end_time": "2025-05-29T19:12:53.183692Z",
     "start_time": "2025-05-29T19:12:53.134707Z"
    }
   },
   "cell_type": "code",
   "source": "Rank.values().map { it.name + \" (\" + it.value * 2 + \")\" }",
   "outputs": [
    {
     "data": {
      "text/plain": [
       "[Two (4), Three (6), Jack (20), Queen (20), King (20), Ace (22)]"
      ]
     },
     "execution_count": 21,
     "metadata": {},
     "output_type": "execute_result"
    }
   ],
   "execution_count": 21
  },
  {
   "metadata": {
    "ExecuteTime": {
     "end_time": "2025-05-29T19:13:02.986461Z",
     "start_time": "2025-05-29T19:13:02.961576Z"
    }
   },
   "cell_type": "code",
   "source": "Rank.entries",
   "outputs": [
    {
     "data": {
      "text/plain": [
       "[Two, Three, Jack, Queen, King, Ace]"
      ]
     },
     "execution_count": 22,
     "metadata": {},
     "output_type": "execute_result"
    }
   ],
   "execution_count": 22
  },
  {
   "metadata": {
    "ExecuteTime": {
     "end_time": "2025-05-29T19:13:07.221943Z",
     "start_time": "2025-05-29T19:13:07.199232Z"
    }
   },
   "cell_type": "code",
   "source": "suits",
   "outputs": [
    {
     "data": {
      "text/plain": [
       "[Hearts, Clubs, Spades, Diamonds]"
      ]
     },
     "execution_count": 23,
     "metadata": {},
     "output_type": "execute_result"
    }
   ],
   "execution_count": 23
  },
  {
   "metadata": {
    "ExecuteTime": {
     "end_time": "2025-05-29T19:18:33.283169Z",
     "start_time": "2025-05-29T19:18:33.243950Z"
    }
   },
   "cell_type": "code",
   "source": [
    "data class Card(val rank:Rank, val suit:Suit) {\n",
    "    override fun toString(): String = \"$rank of $suit\"\n",
    "}"
   ],
   "outputs": [],
   "execution_count": 31
  },
  {
   "metadata": {
    "ExecuteTime": {
     "end_time": "2025-05-29T19:18:35.110525Z",
     "start_time": "2025-05-29T19:18:35.083140Z"
    }
   },
   "cell_type": "code",
   "source": "Card(Rank.Ace, \"Hearts\")",
   "outputs": [
    {
     "data": {
      "text/plain": [
       "Ace of Hearts"
      ]
     },
     "execution_count": 32,
     "metadata": {},
     "output_type": "execute_result"
    }
   ],
   "execution_count": 32
  },
  {
   "metadata": {
    "ExecuteTime": {
     "end_time": "2025-05-29T19:25:35.250848Z",
     "start_time": "2025-05-29T19:25:35.209154Z"
    }
   },
   "cell_type": "code",
   "source": [
    "val deckOld = mutableListOf<Card>()\n",
    "for (r in Rank.entries) {\n",
    "    for (s in suits) {\n",
    "        deckOld.add(Card(r, s))\n",
    "    }\n",
    "}"
   ],
   "outputs": [],
   "execution_count": 41
  },
  {
   "metadata": {
    "ExecuteTime": {
     "end_time": "2025-05-29T19:25:36.412418Z",
     "start_time": "2025-05-29T19:25:36.391511Z"
    }
   },
   "cell_type": "code",
   "source": "deckOld",
   "outputs": [
    {
     "data": {
      "text/plain": [
       "[Two of Hearts, Two of Clubs, Two of Spades, Two of Diamonds, Three of Hearts, Three of Clubs, Three of Spades, Three of Diamonds, Jack of Hearts, Jack of Clubs, Jack of Spades, Jack of Diamonds, Queen of Hearts, Queen of Clubs, Queen of Spades, Queen of Diamonds, King of Hearts, King of Clubs, King of Spades, King of Diamonds, Ace of Hearts, Ace of Clubs, Ace of Spades, Ace of Diamonds]"
      ]
     },
     "execution_count": 42,
     "metadata": {},
     "output_type": "execute_result"
    }
   ],
   "execution_count": 42
  },
  {
   "metadata": {
    "ExecuteTime": {
     "end_time": "2025-05-29T19:36:54.676446Z",
     "start_time": "2025-05-29T19:36:54.621982Z"
    }
   },
   "cell_type": "code",
   "source": "val deck = Rank.entries.flatMap { r -> suits.map { s -> Card(r, s)}}.toMutableList()",
   "outputs": [],
   "execution_count": 65
  },
  {
   "metadata": {
    "ExecuteTime": {
     "end_time": "2025-05-29T19:36:56.040226Z",
     "start_time": "2025-05-29T19:36:56.016097Z"
    }
   },
   "cell_type": "code",
   "source": "deck",
   "outputs": [
    {
     "data": {
      "text/plain": [
       "[Two of Hearts, Two of Clubs, Two of Spades, Two of Diamonds, Three of Hearts, Three of Clubs, Three of Spades, Three of Diamonds, Jack of Hearts, Jack of Clubs, Jack of Spades, Jack of Diamonds, Queen of Hearts, Queen of Clubs, Queen of Spades, Queen of Diamonds, King of Hearts, King of Clubs, King of Spades, King of Diamonds, Ace of Hearts, Ace of Clubs, Ace of Spades, Ace of Diamonds]"
      ]
     },
     "execution_count": 66,
     "metadata": {},
     "output_type": "execute_result"
    }
   ],
   "execution_count": 66
  },
  {
   "metadata": {
    "ExecuteTime": {
     "end_time": "2025-05-29T19:29:05.059059Z",
     "start_time": "2025-05-29T19:29:05.035601Z"
    }
   },
   "cell_type": "code",
   "source": "deck == deckOld",
   "outputs": [
    {
     "data": {
      "text/plain": [
       "true"
      ]
     },
     "execution_count": 49,
     "metadata": {},
     "output_type": "execute_result"
    }
   ],
   "execution_count": 49
  },
  {
   "metadata": {
    "ExecuteTime": {
     "end_time": "2025-05-29T19:31:19.184301Z",
     "start_time": "2025-05-29T19:31:19.159829Z"
    }
   },
   "cell_type": "code",
   "source": "deck.shuffled()",
   "outputs": [
    {
     "data": {
      "text/plain": [
       "[King of Hearts, King of Diamonds, Ace of Spades, Ace of Clubs, Queen of Hearts, Jack of Diamonds, Three of Hearts, Two of Clubs, Ace of Diamonds, Jack of Spades, Three of Diamonds, Jack of Clubs, King of Spades, Three of Spades, Two of Diamonds, Queen of Diamonds, Queen of Spades, Jack of Hearts, Two of Spades, Ace of Hearts, Two of Hearts, King of Clubs, Three of Clubs, Queen of Clubs]"
      ]
     },
     "execution_count": 53,
     "metadata": {},
     "output_type": "execute_result"
    }
   ],
   "execution_count": 53
  },
  {
   "metadata": {
    "ExecuteTime": {
     "end_time": "2025-05-29T19:31:29.010083Z",
     "start_time": "2025-05-29T19:31:28.986469Z"
    }
   },
   "cell_type": "code",
   "source": "deck.size",
   "outputs": [
    {
     "data": {
      "text/plain": [
       "24"
      ]
     },
     "execution_count": 54,
     "metadata": {},
     "output_type": "execute_result"
    }
   ],
   "execution_count": 54
  },
  {
   "metadata": {
    "ExecuteTime": {
     "end_time": "2025-05-29T19:45:06.065882Z",
     "start_time": "2025-05-29T19:45:06.015940Z"
    }
   },
   "cell_type": "code",
   "source": [
    "class Player (val name:String) {\n",
    "    private val hand = mutableListOf<Card>()\n",
    "\n",
    "    override fun toString(): String = \"$name, hand: $hand, score: ${score()}\"\n",
    "\n",
    "    fun addCard(card:Card) = hand.add(card)\n",
    "\n",
    "    fun score() = hand.sumOf({it.rank.value})\n",
    "}"
   ],
   "outputs": [],
   "execution_count": 110
  },
  {
   "metadata": {
    "ExecuteTime": {
     "end_time": "2025-05-29T19:45:07.324483Z",
     "start_time": "2025-05-29T19:45:07.298867Z"
    }
   },
   "cell_type": "code",
   "source": "val levi = Player(\"Levi\")",
   "outputs": [],
   "execution_count": 111
  },
  {
   "metadata": {
    "ExecuteTime": {
     "end_time": "2025-05-29T19:45:12.130655Z",
     "start_time": "2025-05-29T19:45:12.107606Z"
    }
   },
   "cell_type": "code",
   "source": "levi.addCard(deck.removeFirst())",
   "outputs": [
    {
     "data": {
      "text/plain": [
       "true"
      ]
     },
     "execution_count": 114,
     "metadata": {},
     "output_type": "execute_result"
    }
   ],
   "execution_count": 114
  },
  {
   "metadata": {
    "ExecuteTime": {
     "end_time": "2025-05-29T19:45:13.626029Z",
     "start_time": "2025-05-29T19:45:13.606204Z"
    }
   },
   "cell_type": "code",
   "source": "levi",
   "outputs": [
    {
     "data": {
      "text/plain": [
       "Levi, hand: [Queen of Clubs, Queen of Spades, Queen of Diamonds], score: 30"
      ]
     },
     "execution_count": 115,
     "metadata": {},
     "output_type": "execute_result"
    }
   ],
   "execution_count": 115
  },
  {
   "metadata": {
    "ExecuteTime": {
     "end_time": "2025-05-29T19:44:17.077838Z",
     "start_time": "2025-05-29T19:44:17.053402Z"
    }
   },
   "cell_type": "code",
   "source": "levi.score()",
   "outputs": [
    {
     "data": {
      "text/plain": [
       "30"
      ]
     },
     "execution_count": 108,
     "metadata": {},
     "output_type": "execute_result"
    }
   ],
   "execution_count": 108
  },
  {
   "metadata": {
    "ExecuteTime": {
     "end_time": "2025-05-29T19:42:12.980388Z",
     "start_time": "2025-05-29T19:42:12.956201Z"
    }
   },
   "cell_type": "code",
   "source": "val cody = Player(\"Cody\")",
   "outputs": [],
   "execution_count": 95
  },
  {
   "metadata": {
    "ExecuteTime": {
     "end_time": "2025-05-29T19:42:14.578802Z",
     "start_time": "2025-05-29T19:42:14.557520Z"
    }
   },
   "cell_type": "code",
   "source": "cody",
   "outputs": [
    {
     "data": {
      "text/plain": [
       "Cody, hand: []"
      ]
     },
     "execution_count": 96,
     "metadata": {},
     "output_type": "execute_result"
    }
   ],
   "execution_count": 96
  },
  {
   "metadata": {
    "ExecuteTime": {
     "end_time": "2025-05-29T19:38:13.107672Z",
     "start_time": "2025-05-29T19:38:13.079250Z"
    }
   },
   "cell_type": "code",
   "source": "cody.hand.add(deck.removeFirst())\n",
   "outputs": [
    {
     "data": {
      "text/plain": [
       "true"
      ]
     },
     "execution_count": 81,
     "metadata": {},
     "output_type": "execute_result"
    }
   ],
   "execution_count": 81
  },
  {
   "metadata": {
    "ExecuteTime": {
     "end_time": "2025-05-29T19:39:31.692495Z",
     "start_time": "2025-05-29T19:39:31.668333Z"
    }
   },
   "cell_type": "code",
   "source": "listOf(cody, levi)",
   "outputs": [
    {
     "data": {
      "text/plain": [
       "[Cody, hand: [], Levi, hand: [Two of Clubs, Two of Spades, Two of Diamonds, Three of Hearts]]"
      ]
     },
     "execution_count": 85,
     "metadata": {},
     "output_type": "execute_result"
    }
   ],
   "execution_count": 85
  },
  {
   "metadata": {
    "ExecuteTime": {
     "end_time": "2025-05-29T19:44:22.608926Z",
     "start_time": "2025-05-29T19:44:22.586113Z"
    }
   },
   "cell_type": "code",
   "source": "deck.size",
   "outputs": [
    {
     "data": {
      "text/plain": [
       "11"
      ]
     },
     "execution_count": 109,
     "metadata": {},
     "output_type": "execute_result"
    }
   ],
   "execution_count": 109
  },
  {
   "metadata": {
    "ExecuteTime": {
     "end_time": "2025-05-29T20:01:45.251216Z",
     "start_time": "2025-05-29T20:01:45.154997Z"
    }
   },
   "cell_type": "code",
   "source": [
    "class Game {\n",
    "    val vicki = Player(\"Vicki\")\n",
    "    val dealer = Player(\"Dealer\")\n",
    "    val deck = Rank.entries.flatMap { r -> suits.map { s -> Card(r, s)}}.shuffled().toMutableList()\n",
    "\n",
    "    init {\n",
    "        repeat(2) {\n",
    "            deal(vicki)\n",
    "            deal(dealer)\n",
    "        }\n",
    "\n",
    "    }\n",
    "\n",
    "    fun deal(player:Player):Card {\n",
    "        val card = deck.removeFirst()\n",
    "        player.addCard(card)\n",
    "\n",
    "        return card\n",
    "    }\n",
    "\n",
    "    override fun toString(): String = \"$vicki\\n$dealer\"\n",
    "\n",
    "    fun hit() {\n",
    "        val dealtCard = deal(vicki)\n",
    "        if (isBusted(vicki)) {\n",
    "            println(\"Sadly, ${vicki.name} busted :(\")\n",
    "            println(vicki)\n",
    "        } else {\n",
    "            println(\"Vicki was dealt $dealtCard\")\n",
    "        }\n",
    "    }\n",
    "\n",
    "    fun isBusted(player:Player) = player.score() > 21\n",
    "\n",
    "    fun stay() {\n",
    "        while (dealer.score() < 17) {\n",
    "            deal(dealer)\n",
    "            if (isBusted(dealer)) {\n",
    "                println(\"Happily the dealer has busted!\")\n",
    "                println(dealer)\n",
    "                return\n",
    "            }\n",
    "        }\n",
    "        if (vicki.score() > dealer.score()) {\n",
    "            println(\"Vicki wins!\")\n",
    "\n",
    "        } else {\n",
    "            println(\"Dealer wins!\")\n",
    "        }\n",
    "        println(vicki)\n",
    "        println(dealer)\n",
    "    }\n",
    "}"
   ],
   "outputs": [],
   "execution_count": 146
  },
  {
   "metadata": {
    "ExecuteTime": {
     "end_time": "2025-05-29T20:02:45.691851Z",
     "start_time": "2025-05-29T20:02:45.670280Z"
    }
   },
   "cell_type": "code",
   "source": "val game = Game()",
   "outputs": [],
   "execution_count": 155
  },
  {
   "metadata": {
    "ExecuteTime": {
     "end_time": "2025-05-29T20:02:46.714724Z",
     "start_time": "2025-05-29T20:02:46.696432Z"
    }
   },
   "cell_type": "code",
   "source": "game",
   "outputs": [
    {
     "data": {
      "text/plain": [
       "Vicki, hand: [Three of Hearts, Queen of Hearts], score: 13\n",
       "Dealer, hand: [Jack of Spades, King of Hearts], score: 20"
      ]
     },
     "execution_count": 156,
     "metadata": {},
     "output_type": "execute_result"
    }
   ],
   "execution_count": 156
  },
  {
   "metadata": {
    "ExecuteTime": {
     "end_time": "2025-05-29T20:02:02.049943Z",
     "start_time": "2025-05-29T20:02:02.031593Z"
    }
   },
   "cell_type": "code",
   "source": "game.hit()",
   "outputs": [
    {
     "name": "stdout",
     "output_type": "stream",
     "text": [
      "Sadly, Vicki busted :(\n",
      "Vicki, hand: [Queen of Diamonds, Three of Hearts, Two of Spades, King of Spades], score: 25\n"
     ]
    }
   ],
   "execution_count": 150
  },
  {
   "metadata": {
    "ExecuteTime": {
     "end_time": "2025-05-29T19:58:51.338911Z",
     "start_time": "2025-05-29T19:58:51.315980Z"
    }
   },
   "cell_type": "code",
   "source": "game.vicki",
   "outputs": [
    {
     "data": {
      "text/plain": [
       "Vicki, hand: [Two of Spades, Two of Diamonds, Ace of Clubs, Two of Clubs], score: 17"
      ]
     },
     "execution_count": 144,
     "metadata": {},
     "output_type": "execute_result"
    }
   ],
   "execution_count": 144
  },
  {
   "metadata": {
    "ExecuteTime": {
     "end_time": "2025-05-29T20:02:57.029585Z",
     "start_time": "2025-05-29T20:02:57.011093Z"
    }
   },
   "cell_type": "code",
   "source": "game.stay()",
   "outputs": [
    {
     "name": "stdout",
     "output_type": "stream",
     "text": [
      "Dealer wins!\n",
      "Vicki, hand: [Three of Hearts, Queen of Hearts], score: 13\n",
      "Dealer, hand: [Jack of Spades, King of Hearts], score: 20\n"
     ]
    }
   ],
   "execution_count": 157
  },
  {
   "metadata": {},
   "cell_type": "code",
   "outputs": [],
   "execution_count": null,
   "source": ""
  }
 ],
 "metadata": {
  "kernelspec": {
   "display_name": "Kotlin",
   "language": "kotlin",
   "name": "kotlin"
  },
  "language_info": {
   "name": "kotlin",
   "version": "1.9.23",
   "mimetype": "text/x-kotlin",
   "file_extension": ".kt",
   "pygments_lexer": "kotlin",
   "codemirror_mode": "text/x-kotlin",
   "nbconvert_exporter": ""
  }
 },
 "nbformat": 4,
 "nbformat_minor": 0
}
